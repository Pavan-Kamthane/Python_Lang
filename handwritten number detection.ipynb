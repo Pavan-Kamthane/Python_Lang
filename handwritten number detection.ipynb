{
 "cells": [
  {
   "cell_type": "code",
   "execution_count": 4,
   "id": "10663148",
   "metadata": {},
   "outputs": [
    {
     "name": "stdout",
     "output_type": "stream",
     "text": [
      " Dimensions :  [[ 1  1 16 16 16 16  1  1  1 16 16 16 16 16 16  1  1 16 16 12  1 16 16 16\n",
      "  16 16 16  1  1  1 16 16 16 16  1  1  1 16 16 16 16 16 16 16 16 16 16 16\n",
      "  16 16 16 16 16 16 16  1  1 14 16 16 16 16 16  1]]\n"
     ]
    },
    {
     "data": {
      "text/plain": [
       "<matplotlib.image.AxesImage at 0x1a549ddd880>"
      ]
     },
     "execution_count": 4,
     "metadata": {},
     "output_type": "execute_result"
    },
    {
     "data": {
      "image/png": "[encoded data removed]",
      "text/plain": [
       "<Figure size 720x288 with 1 Axes>"
      ]
     },
     "metadata": {
      "needs_background": "light"
     },
     "output_type": "display_data"
    }
   ],
   "source": [
    "# Read the image using imread function\n",
    "image =cv2.imread('C:\\\\Users\\\\mohid\\\\Music/00.jpeg')\n",
    "\n",
    "gray = cv2.cvtColor(image, cv2.COLOR_BGR2GRAY)\n",
    "\n",
    "c = cv2.resize(gray, (8, 8))\n",
    "image4=c/16\n",
    "A = image4.astype(int)\n",
    "inverted_image =16-A\n",
    "inverted_image=inverted_image.reshape(1,64)\n",
    "plt.figure(figsize=(10,4))\n",
    "\n",
    "print(' Dimensions : ',inverted_image)\n",
    "plt.imshow(np.reshape(inverted_image, (8,8)), cmap=plt.cm.gray)\n"
   ]
  },
  {
   "cell_type": "code",
   "execution_count": 5,
   "id": "0f697cfd",
   "metadata": {},
   "outputs": [
    {
     "name": "stdout",
     "output_type": "stream",
     "text": [
      "MOHID AAMIR 663_FET/BSEE/F19\n"
     ]
    }
   ],
   "source": [
    "import joblib\n",
    "import numpy as np\n",
    "print('MOHID AAMIR 663_FET/BSEE/F19')"
   ]
  },
  {
   "cell_type": "code",
   "execution_count": 6,
   "id": "bc6eb915",
   "metadata": {},
   "outputs": [],
   "source": [
    "Loaded_model = joblib.load('NB-digit-classification')"
   ]
  },
  {
   "cell_type": "code",
   "execution_count": 7,
   "id": "bed82f1a",
   "metadata": {},
   "outputs": [
    {
     "data": {
      "text/plain": [
       "array([4])"
      ]
     },
     "execution_count": 7,
     "metadata": {},
     "output_type": "execute_result"
    }
   ],
   "source": [
    "Loaded_model.predict(inverted_image.reshape(1,64))"
   ]
  },
  {
   "cell_type": "raw",
   "id": "4c8d6188",
   "metadata": {},
   "source": [
    "\n"
   ]
  }
 ],
 "metadata": {
  "kernelspec": {
   "display_name": "Python 3 (ipykernel)",
   "language": "python",
   "name": "python3"
  },
  "language_info": {
   "codemirror_mode": {
    "name": "ipython",
    "version": 3
   },
   "file_extension": ".py",
   "mimetype": "text/x-python",
   "name": "python",
   "nbconvert_exporter": "python",
   "pygments_lexer": "ipython3",
   "version": "3.9.12"
  }
 },
 "nbformat": 4,
 "nbformat_minor": 5
}
